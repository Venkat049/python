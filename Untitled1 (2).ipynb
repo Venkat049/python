{
 "cells": [
  {
   "cell_type": "code",
   "execution_count": 1,
   "id": "fabbbda5-3efd-46d1-b507-9afa262f6e4e",
   "metadata": {},
   "outputs": [
    {
     "name": "stdout",
     "output_type": "stream",
     "text": [
      "india won\n"
     ]
    }
   ],
   "source": [
    "#concatnate operation\n",
    "s1=\"india\"\n",
    "s2=\"won\"\n",
    "result=s1+\" \"+s2\n",
    "print(result) \n"
   ]
  },
  {
   "cell_type": "code",
   "execution_count": 2,
   "id": "2f4ae09f-79a4-4690-8725-abaa758c5753",
   "metadata": {},
   "outputs": [
    {
     "name": "stdout",
     "output_type": "stream",
     "text": [
      "31\n"
     ]
    }
   ],
   "source": [
    "#search/replace\n",
    "str=\"india won the match by 5 wickets\"\n",
    "print(str.find(\"s\"))"
   ]
  },
  {
   "cell_type": "code",
   "execution_count": 3,
   "id": "9ad88460-07bc-4408-be83-5067dcd1b445",
   "metadata": {},
   "outputs": [
    {
     "name": "stdout",
     "output_type": "stream",
     "text": [
      "31\n",
      "india won the match by 5 runs today\n"
     ]
    }
   ],
   "source": [
    "#search/replace\n",
    "str=\"india won the match by 5 wickets\"\n",
    "print(str.find(\"s\"))\n",
    "print(str.replace(\"wickets\",\"runs today\")) "
   ]
  },
  {
   "cell_type": "code",
   "execution_count": 4,
   "id": "1eb7d6cc-2f02-4b88-9f8a-cb912d445611",
   "metadata": {},
   "outputs": [
    {
     "name": "stdout",
     "output_type": "stream",
     "text": [
      "31\n",
      "india won the match by 9 wickets\n"
     ]
    }
   ],
   "source": [
    "#search/replace\n",
    "str=\"india won the match by 5 wickets\"\n",
    "print(str.find(\"s\"))\n",
    "print(str.replace(\"5\",\"9\"))\n"
   ]
  },
  {
   "cell_type": "code",
   "execution_count": 5,
   "id": "07b3caf7-cdb4-4348-a2af-c04926734a92",
   "metadata": {},
   "outputs": [
    {
     "name": "stdout",
     "output_type": "stream",
     "text": [
      "['alpha,beta,gamma']\n",
      "alpha,beta,gamma\n"
     ]
    }
   ],
   "source": [
    "#split and join \n",
    "str=\"alpha,beta,gamma\"\n",
    "parts=str.split(\":\")\n",
    "print(parts)\n",
    "joined=\",\".join(parts)\n",
    "print(joined)\n"
   ]
  },
  {
   "cell_type": "code",
   "execution_count": 6,
   "id": "b007b59e-891e-4c4f-bb5d-21bfd5e7f7c0",
   "metadata": {},
   "outputs": [
    {
     "name": "stdout",
     "output_type": "stream",
     "text": [
      "*******india********\n"
     ]
    }
   ],
   "source": [
    "#center function\n",
    "str=\"india\"\n",
    "print(str.center(20,\"*\"))\n",
    "\n"
   ]
  },
  {
   "cell_type": "code",
   "execution_count": 7,
   "id": "2b43e7aa-586b-4842-bd28-ccd8f150a170",
   "metadata": {},
   "outputs": [
    {
     "name": "stdout",
     "output_type": "stream",
     "text": [
      "6\n"
     ]
    }
   ],
   "source": [
    " #count(str,beg,end)\n",
    "str='he'\n",
    "text='hellohellhellohellhellohell'\n",
    "print(text.count(str,0,len(text)))\n",
    "\n"
   ]
  },
  {
   "cell_type": "code",
   "execution_count": 8,
   "id": "368c74f2-ca27-40aa-b0fb-af955b99a91d",
   "metadata": {},
   "outputs": [
    {
     "name": "stdout",
     "output_type": "stream",
     "text": [
      "True\n",
      "True\n"
     ]
    }
   ],
   "source": [
    "#startswith endswith....searching\n",
    "str1=\"dog is human bestfriend\"\n",
    "str2='the climate is very daangerous'\n",
    "print(str1.endswith('end',0,len(str1)))\n",
    "print(str2.startswith('th',0,len(str2)))"
   ]
  },
  {
   "cell_type": "code",
   "execution_count": 9,
   "id": "c3f921d5-d6f2-4963-a323-ad2f8a0502f7",
   "metadata": {},
   "outputs": [
    {
     "name": "stdout",
     "output_type": "stream",
     "text": [
      "True\n",
      "False\n"
     ]
    }
   ],
   "source": [
    "#startswith endswith....searching\n",
    "str1=\"dog is human bestfriend\"\n",
    "str2='the climate is very daangerous'\n",
    "print(str1.endswith('end',0,len(str1)))\n",
    "print(str2.startswith('end',0,len(str2)))"
   ]
  },
  {
   "cell_type": "code",
   "execution_count": 10,
   "id": "db75ba32-2269-40fe-b704-4bdb9317a179",
   "metadata": {},
   "outputs": [
    {
     "name": "stdout",
     "output_type": "stream",
     "text": [
      "12\n"
     ]
    }
   ],
   "source": [
    "text=\"how was the meal today?\"\n",
    "print(text.find('meal',0,len(text)))"
   ]
  },
  {
   "cell_type": "code",
   "execution_count": 11,
   "id": "1520328a-facc-439a-bbd3-c74de81c3086",
   "metadata": {},
   "outputs": [
    {
     "name": "stdout",
     "output_type": "stream",
     "text": [
      "0\n",
      "0\n"
     ]
    }
   ],
   "source": [
    "text=\"is this your bag?\"\n",
    "print(text.find('is',0,len(text)))\n",
    "print(text.find('is',0,len(text)))"
   ]
  },
  {
   "cell_type": "code",
   "execution_count": 12,
   "id": "0ba4eabd-a64a-4e89-957a-2f4e3313f358",
   "metadata": {},
   "outputs": [
    {
     "name": "stdout",
     "output_type": "stream",
     "text": [
      "0\n",
      "5\n"
     ]
    }
   ],
   "source": [
    "text=\"is this your bag?\"\n",
    "print(text.find('is',0,len(text)))\n",
    "print(text.rfind('is',0,len(text)))"
   ]
  },
  {
   "cell_type": "code",
   "execution_count": 13,
   "id": "553ee80d-5103-420f-b81e-009f3ecd3b43",
   "metadata": {},
   "outputs": [
    {
     "name": "stdout",
     "output_type": "stream",
     "text": [
      "False\n",
      "True\n",
      "False\n",
      "False\n"
     ]
    }
   ],
   "source": [
    "text=\"jamesbond0007\"\n",
    "print(text.isalpha())\n",
    "print(text.isalnum())\n",
    "print(text.isdigit())\n",
    "print(text.isspace())"
   ]
  },
  {
   "cell_type": "code",
   "execution_count": null,
   "id": "d8de3948-c698-4789-85cf-e8b89ba8562b",
   "metadata": {},
   "outputs": [],
   "source": []
  }
 ],
 "metadata": {
  "kernelspec": {
   "display_name": "Python 3 (ipykernel)",
   "language": "python",
   "name": "python3"
  },
  "language_info": {
   "codemirror_mode": {
    "name": "ipython",
    "version": 3
   },
   "file_extension": ".py",
   "mimetype": "text/x-python",
   "name": "python",
   "nbconvert_exporter": "python",
   "pygments_lexer": "ipython3",
   "version": "3.12.7"
  }
 },
 "nbformat": 4,
 "nbformat_minor": 5
}
