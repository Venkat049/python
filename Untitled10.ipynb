{
 "cells": [
  {
   "cell_type": "code",
   "execution_count": 5,
   "id": "87914f6c-8b87-43c4-99fb-bdc36468db41",
   "metadata": {},
   "outputs": [
    {
     "name": "stdout",
     "output_type": "stream",
     "text": [
      "file data in kitkat.txt: hello students !!! how are you ðŸ˜Š \n"
     ]
    }
   ],
   "source": [
    "file=open('kitkat.txt','r')\n",
    "data = file.read()\n",
    "print(\"file data in kitkat.txt:\",data)\n",
    "file.close()"
   ]
  },
  {
   "cell_type": "code",
   "execution_count": 10,
   "id": "2ba06efd-d2a9-4422-b23d-3a395c1aec2e",
   "metadata": {},
   "outputs": [],
   "source": [
    "f=open('sample.txt','w')\n",
    "f.write(\"ok!done...\")\n",
    "f.close()"
   ]
  },
  {
   "cell_type": "code",
   "execution_count": 13,
   "id": "6c1f031b-5223-4bce-8227-21af084eb080",
   "metadata": {},
   "outputs": [],
   "source": [
    "f=open('raj.txt','a')\n",
    "f.write(\"ok!done...\")\n",
    "f.close()"
   ]
  },
  {
   "cell_type": "code",
   "execution_count": null,
   "id": "12f266d3-2fc1-4967-b2d0-064a1f4caacb",
   "metadata": {},
   "outputs": [],
   "source": []
  }
 ],
 "metadata": {
  "kernelspec": {
   "display_name": "Python [conda env:base] *",
   "language": "python",
   "name": "conda-base-py"
  },
  "language_info": {
   "codemirror_mode": {
    "name": "ipython",
    "version": 3
   },
   "file_extension": ".py",
   "mimetype": "text/x-python",
   "name": "python",
   "nbconvert_exporter": "python",
   "pygments_lexer": "ipython3",
   "version": "3.13.5"
  }
 },
 "nbformat": 4,
 "nbformat_minor": 5
}
