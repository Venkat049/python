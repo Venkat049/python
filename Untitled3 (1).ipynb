{
 "cells": [
  {
   "cell_type": "code",
   "execution_count": 23,
   "id": "e38dd039-feb0-4843-a391-2c078c2f2be5",
   "metadata": {},
   "outputs": [
    {
     "name": "stdout",
     "output_type": "stream",
     "text": [
      "venkat cricket venkat cricket venkat cricket venkat cricket venkat cricket looping over as condition fails\n"
     ]
    }
   ],
   "source": [
    "loop=0\n",
    "while loop<5:\n",
    "    print('venkat',end=' ')\n",
    "    print('cricket',end=' ')\n",
    "    loop+=1\n",
    "print('looping over as condition fails')"
   ]
  },
  {
   "cell_type": "code",
   "execution_count": 25,
   "id": "3cd1c5ec-381f-4190-a968-eb1345e06122",
   "metadata": {},
   "outputs": [
    {
     "name": "stdin",
     "output_type": "stream",
     "text": [
      "enter the value of n: 20\n"
     ]
    },
    {
     "name": "stdout",
     "output_type": "stream",
     "text": [
      "2 4 6 8 10 12 14 16 18 20 "
     ]
    }
   ],
   "source": [
    "loop=0\n",
    "while loop<5:\n",
    "    print('venkat',end=' ')\n",
    "    print('cricket',end=' ')\n",
    "    loop+=1\n",
    "print('looping over as condition fails')"
   ]
  },
  {
   "cell_type": "code",
   "execution_count": 34,
   "id": "3d5b076b-9b4a-47bc-a8f6-5d3e08fdefea",
   "metadata": {},
   "outputs": [
    {
     "name": "stdin",
     "output_type": "stream",
     "text": [
      "enter value of n 22\n"
     ]
    },
    {
     "name": "stdout",
     "output_type": "stream",
     "text": [
      "total: 253\n"
     ]
    }
   ],
   "source": [
    "#print all sum of first n natural numbers n=10,output:55'''\n",
    "n=int(input('enter value of n'))\n",
    "i=1\n",
    "sum=0\n",
    "while i<=n:\n",
    "    sum+=i\n",
    "    i+=1\n",
    "print('total:',sum)\n",
    "    "
   ]
  },
  {
   "cell_type": "code",
   "execution_count": null,
   "id": "92e3058c-e72d-404a-a2cc-d0f4a8a8c0a4",
   "metadata": {},
   "outputs": [],
   "source": []
  }
 ],
 "metadata": {
  "kernelspec": {
   "display_name": "Python 3 (ipykernel)",
   "language": "python",
   "name": "python3"
  },
  "language_info": {
   "codemirror_mode": {
    "name": "ipython",
    "version": 3
   },
   "file_extension": ".py",
   "mimetype": "text/x-python",
   "name": "python",
   "nbconvert_exporter": "python",
   "pygments_lexer": "ipython3",
   "version": "3.12.7"
  }
 },
 "nbformat": 4,
 "nbformat_minor": 5
}
